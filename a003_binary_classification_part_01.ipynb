{
 "cells": [
  {
   "cell_type": "code",
   "execution_count": 284,
   "metadata": {},
   "outputs": [],
   "source": [
    "import numpy as np"
   ]
  },
  {
   "cell_type": "code",
   "execution_count": 285,
   "metadata": {},
   "outputs": [],
   "source": [
    "data = np.array([[0, 0, 0], [0, 1, 0], [1, 0, 0], [1, 1, 1]], dtype = 'float32')"
   ]
  },
  {
   "cell_type": "code",
   "execution_count": 286,
   "metadata": {},
   "outputs": [
    {
     "data": {
      "text/plain": [
       "array([[0., 0.],\n",
       "       [0., 1.],\n",
       "       [1., 0.],\n",
       "       [1., 1.]], dtype=float32)"
      ]
     },
     "execution_count": 286,
     "metadata": {},
     "output_type": "execute_result"
    }
   ],
   "source": [
    "x = data[:, :2]\n",
    "x"
   ]
  },
  {
   "cell_type": "code",
   "execution_count": 287,
   "metadata": {},
   "outputs": [
    {
     "data": {
      "text/plain": [
       "array([0., 0., 0., 1.], dtype=float32)"
      ]
     },
     "execution_count": 287,
     "metadata": {},
     "output_type": "execute_result"
    }
   ],
   "source": [
    "y = data[:, 2]\n",
    "y"
   ]
  },
  {
   "cell_type": "code",
   "execution_count": 288,
   "metadata": {},
   "outputs": [
    {
     "data": {
      "text/plain": [
       "array([0.1, 0.6])"
      ]
     },
     "execution_count": 288,
     "metadata": {},
     "output_type": "execute_result"
    }
   ],
   "source": [
    "weights = np.array([0.1, 0.6])\n",
    "weights"
   ]
  },
  {
   "cell_type": "code",
   "execution_count": 289,
   "metadata": {},
   "outputs": [],
   "source": [
    "b = 0"
   ]
  },
  {
   "cell_type": "code",
   "execution_count": 290,
   "metadata": {},
   "outputs": [
    {
     "data": {
      "text/plain": [
       "array([[0., 0., 1., 1.],\n",
       "       [0., 1., 0., 1.]], dtype=float32)"
      ]
     },
     "execution_count": 290,
     "metadata": {},
     "output_type": "execute_result"
    }
   ],
   "source": [
    "d_train = x.T\n",
    "d_train"
   ]
  },
  {
   "cell_type": "code",
   "execution_count": 291,
   "metadata": {},
   "outputs": [],
   "source": [
    "def sigmoid(z):\n",
    "    \n",
    "    denom = np.add(1, np.exp(-z))\n",
    "    \n",
    "    sig = np.divide(1, denom)\n",
    "    \n",
    "    return sig"
   ]
  },
  {
   "cell_type": "code",
   "execution_count": 292,
   "metadata": {},
   "outputs": [
    {
     "data": {
      "text/plain": [
       "array([0. , 0.6, 0.1, 0.7])"
      ]
     },
     "execution_count": 292,
     "metadata": {},
     "output_type": "execute_result"
    }
   ],
   "source": [
    "z_temp = np.dot(weights, d_train)\n",
    "z_temp"
   ]
  },
  {
   "cell_type": "code",
   "execution_count": 293,
   "metadata": {},
   "outputs": [
    {
     "data": {
      "text/plain": [
       "array([0. , 0.6, 0.1, 0.7])"
      ]
     },
     "execution_count": 293,
     "metadata": {},
     "output_type": "execute_result"
    }
   ],
   "source": [
    "z = np.add(z_temp, b)\n",
    "z"
   ]
  },
  {
   "cell_type": "code",
   "execution_count": 294,
   "metadata": {},
   "outputs": [
    {
     "data": {
      "text/plain": [
       "array([0.5       , 0.64565631, 0.52497919, 0.66818777])"
      ]
     },
     "execution_count": 294,
     "metadata": {},
     "output_type": "execute_result"
    }
   ],
   "source": [
    "y_hat = sigmoid(z)\n",
    "y_hat"
   ]
  },
  {
   "cell_type": "code",
   "execution_count": 295,
   "metadata": {},
   "outputs": [],
   "source": [
    "def compute_bce(y, y_hat):\n",
    "    \"\"\"\n",
    "    -1/m(y * log(y_hat) + (1 - y) * log(1 - y_hat))\n",
    "    \"\"\"\n",
    "    true_event_prob = np.multiply(np.log(y_hat), y)\n",
    "\n",
    "    one__sub__y = np.subtract(1, y)\n",
    "    one__sub__y_hat = np.subtract(1, y_hat)\n",
    "    false_event_prob_iii = np.multiply(one__sub__y, np.log(one__sub__y_hat))\n",
    "\n",
    "    cost_elem = np.concatenate((true_event_prob, false_event_prob_iii))\n",
    "\n",
    "    cost = np.sum(cost_elem)\n",
    "\n",
    "    avg_cost = -np.divide(cost, len(y))\n",
    "\n",
    "    return avg_cost"
   ]
  },
  {
   "cell_type": "code",
   "execution_count": 296,
   "metadata": {},
   "outputs": [
    {
     "data": {
      "text/plain": [
       "0.7195544600012148"
      ]
     },
     "execution_count": 296,
     "metadata": {},
     "output_type": "execute_result"
    }
   ],
   "source": [
    "compute_bce(y, y_hat)"
   ]
  },
  {
   "cell_type": "code",
   "execution_count": 297,
   "metadata": {},
   "outputs": [
    {
     "data": {
      "text/plain": [
       "array([1., 2.])"
      ]
     },
     "execution_count": 297,
     "metadata": {},
     "output_type": "execute_result"
    }
   ],
   "source": [
    "np.divide(np.array([2, 4]), 2)"
   ]
  },
  {
   "cell_type": "code",
   "execution_count": 298,
   "metadata": {},
   "outputs": [],
   "source": [
    "def compute_final_del_cost__by__del_w_mtx(y, y_hat, z, x):\n",
    "        \n",
    "    final_del_cost__by__del_z = compute_final_del_cost__by__del_z_vector(y, y_hat, z).reshape(-1, 4)\n",
    "    local_del_z__by__del_w = compute_local_del_z__by__del_w_mtx(x)\n",
    "    \n",
    "    final_del_cost__by__del_w_mtx = np.matmul(final_del_cost__by__del_z, local_del_z__by__del_w)\n",
    "    print(final_del_cost__by__del_z)\n",
    "    print(local_del_z__by__del_w)\n",
    "    print(final_del_cost__by__del_w_mtx)\n",
    "    #print(ans)\n",
    "    \n",
    "    #print(a1, a2)\n",
    "    #print(a1, a2, a3)\n",
    "    \n",
    "\n",
    "\n",
    "def compute_final_del_cost__by__del_z_vector(y, y_hat, z):\n",
    "        \n",
    "    del_cost__by__del_y_hat = compute_local_del_cost__by__del_y_hat_vector(y, y_hat)\n",
    "    del_y_hat__by__del_z = compute_local_del_y_hat__by__del_z_vector(z)\n",
    "    \n",
    "    del_cost__by__del_z = np.multiply(del_cost__by__del_y_hat, del_y_hat__by__del_z)\n",
    "    \n",
    "    return del_cost__by__del_z\n",
    "\n",
    "\n",
    "def compute_local_del_cost__by__del_y_hat_vector(y, y_hat):\n",
    "        \n",
    "    grad_array = np.array([])\n",
    "    for _y, _y_hat in zip(y, y_hat):\n",
    "        \n",
    "        local_gradient = -np.divide(_y, _y_hat) + np.divide((1 - _y), (1 - _y_hat))\n",
    "        grad_array = np.append(grad_array, local_gradient)\n",
    "\n",
    "    grad_array = np.divide(grad_array, len(y))\n",
    "\n",
    "    return grad_array"
   ]
  },
  {
   "cell_type": "code",
   "execution_count": 299,
   "metadata": {},
   "outputs": [
    {
     "data": {
      "text/plain": [
       "array([ 0.5       ,  0.7055297 ,  0.52629273, -0.37414633])"
      ]
     },
     "execution_count": 299,
     "metadata": {},
     "output_type": "execute_result"
    }
   ],
   "source": [
    "local_del_cost__by__del_y_hat_vector = compute_local_del_cost__by__del_y_hat_vector(y, y_hat)\n",
    "local_del_cost__by__del_y_hat_vector"
   ]
  },
  {
   "cell_type": "code",
   "execution_count": 300,
   "metadata": {},
   "outputs": [
    {
     "data": {
      "text/plain": [
       "[0.25, 0.22878424045665732, 0.24937604019289197, 0.22171287329310904]"
      ]
     },
     "execution_count": 300,
     "metadata": {},
     "output_type": "execute_result"
    }
   ],
   "source": [
    "def compute_local_del_y_hat__by__del_z_vector(z):\n",
    "\n",
    "    grad_wrt_z = [sigmoid(output) * (1 - sigmoid(output)) for output in z]\n",
    "\n",
    "    return grad_wrt_z\n",
    "\n",
    "local_del_y_hat__by__del_z_vector = compute_local_del_y_hat__by__del_z_vector(z)\n",
    "local_del_y_hat__by__del_z_vector"
   ]
  },
  {
   "cell_type": "code",
   "execution_count": 301,
   "metadata": {},
   "outputs": [
    {
     "data": {
      "text/plain": [
       "array([[0., 0.],\n",
       "       [0., 1.],\n",
       "       [1., 0.],\n",
       "       [1., 1.]], dtype=float32)"
      ]
     },
     "execution_count": 301,
     "metadata": {},
     "output_type": "execute_result"
    }
   ],
   "source": [
    "def compute_local_del_z__by__del_w_mtx(x):\n",
    "    \n",
    "    return x\n",
    "\n",
    "local_del_z__by__del_w_mtx = compute_local_del_z__by__del_w_mtx(x)\n",
    "local_del_z__by__del_w_mtx"
   ]
  },
  {
   "cell_type": "code",
   "execution_count": 302,
   "metadata": {},
   "outputs": [
    {
     "data": {
      "text/plain": [
       "array([ 0.125     ,  0.16141408,  0.1312448 , -0.08295306])"
      ]
     },
     "execution_count": 302,
     "metadata": {},
     "output_type": "execute_result"
    }
   ],
   "source": [
    "compute_final_del_cost__by__del_z_vector(y, y_hat, z)"
   ]
  },
  {
   "cell_type": "code",
   "execution_count": 303,
   "metadata": {},
   "outputs": [
    {
     "name": "stdout",
     "output_type": "stream",
     "text": [
      "[[ 0.125       0.16141408  0.1312448  -0.08295306]]\n",
      "[[0. 0.]\n",
      " [0. 1.]\n",
      " [1. 0.]\n",
      " [1. 1.]]\n",
      "[[0.04829174 0.07846102]]\n"
     ]
    }
   ],
   "source": [
    "compute_final_del_cost__by__del_w_mtx(y, y_hat, z, x)"
   ]
  },
  {
   "cell_type": "code",
   "execution_count": null,
   "metadata": {},
   "outputs": [],
   "source": []
  },
  {
   "cell_type": "code",
   "execution_count": null,
   "metadata": {},
   "outputs": [],
   "source": []
  },
  {
   "cell_type": "code",
   "execution_count": null,
   "metadata": {},
   "outputs": [],
   "source": []
  },
  {
   "cell_type": "code",
   "execution_count": null,
   "metadata": {},
   "outputs": [],
   "source": []
  },
  {
   "cell_type": "code",
   "execution_count": null,
   "metadata": {},
   "outputs": [],
   "source": []
  },
  {
   "cell_type": "code",
   "execution_count": null,
   "metadata": {},
   "outputs": [],
   "source": []
  },
  {
   "cell_type": "code",
   "execution_count": null,
   "metadata": {},
   "outputs": [],
   "source": []
  },
  {
   "cell_type": "code",
   "execution_count": null,
   "metadata": {},
   "outputs": [],
   "source": []
  },
  {
   "cell_type": "code",
   "execution_count": null,
   "metadata": {},
   "outputs": [],
   "source": []
  },
  {
   "cell_type": "code",
   "execution_count": null,
   "metadata": {},
   "outputs": [],
   "source": []
  }
 ],
 "metadata": {
  "kernelspec": {
   "display_name": "Python 3",
   "language": "python",
   "name": "python3"
  },
  "language_info": {
   "codemirror_mode": {
    "name": "ipython",
    "version": 3
   },
   "file_extension": ".py",
   "mimetype": "text/x-python",
   "name": "python",
   "nbconvert_exporter": "python",
   "pygments_lexer": "ipython3",
   "version": "3.7.0"
  }
 },
 "nbformat": 4,
 "nbformat_minor": 2
}
