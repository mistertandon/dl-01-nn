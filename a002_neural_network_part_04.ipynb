{
 "cells": [
  {
   "cell_type": "markdown",
   "metadata": {},
   "source": [
    "> Please go through this <a href=\"https://medium.com/towards-artificial-intelligence/nothing-but-numpy-understanding-creating-neural-networks-with-computational-graphs-from-scratch-6299901091b0\">brilliant artical</a> before using this jupyter notebook\n",
    "<br>\n"
   ]
  },
  {
   "cell_type": "markdown",
   "metadata": {},
   "source": [
    "## [1] Basic Neural network"
   ]
  },
  {
   "cell_type": "code",
   "execution_count": 1,
   "metadata": {},
   "outputs": [],
   "source": [
    "from IPython.core.interactiveshell import InteractiveShell\n",
    "InteractiveShell.astnode_interactivity = 'all'"
   ]
  },
  {
   "cell_type": "code",
   "execution_count": 2,
   "metadata": {},
   "outputs": [],
   "source": [
    "from helper import *"
   ]
  },
  {
   "cell_type": "code",
   "execution_count": 3,
   "metadata": {},
   "outputs": [],
   "source": [
    "import numpy as np\n",
    "import pandas as pd"
   ]
  },
  {
   "cell_type": "code",
   "execution_count": 4,
   "metadata": {},
   "outputs": [],
   "source": [
    "import matplotlib.pyplot as plt\n",
    "%matplotlib inline"
   ]
  },
  {
   "cell_type": "markdown",
   "metadata": {},
   "source": [
    "<img src=\"images/img_01_nn.png\">"
   ]
  },
  {
   "cell_type": "code",
   "execution_count": 5,
   "metadata": {},
   "outputs": [],
   "source": [
    "#https://medium.com/towards-artificial-intelligence/nothing-but-numpy-understanding-creating-neural-networks-with-computational-graphs-from-scratch-6299901091b0"
   ]
  },
  {
   "cell_type": "code",
   "execution_count": 6,
   "metadata": {},
   "outputs": [
    {
     "data": {
      "text/plain": [
       "array([[0, 0, 0],\n",
       "       [0, 1, 1],\n",
       "       [1, 0, 1],\n",
       "       [1, 1, 1]])"
      ]
     },
     "execution_count": 6,
     "metadata": {},
     "output_type": "execute_result"
    }
   ],
   "source": [
    "data = np.array([[0, 0, 0], [0, 1, 1], [1, 0, 1], [1, 1, 1]])\n",
    "data"
   ]
  },
  {
   "cell_type": "code",
   "execution_count": 7,
   "metadata": {},
   "outputs": [
    {
     "name": "stdout",
     "output_type": "stream",
     "text": [
      "(2,)\n"
     ]
    },
    {
     "data": {
      "text/plain": [
       "array([0.1, 0.6])"
      ]
     },
     "execution_count": 7,
     "metadata": {},
     "output_type": "execute_result"
    }
   ],
   "source": [
    "\"\"\"\n",
    "weights: Contains weight whose value neural network would learn.\n",
    "\"\"\"\n",
    "weights = np.array([0.1, 0.6])\n",
    "\n",
    "print(weights.shape)\n",
    "weights"
   ]
  },
  {
   "cell_type": "code",
   "execution_count": 8,
   "metadata": {},
   "outputs": [],
   "source": [
    "\"\"\"\n",
    "Initially set bias to Zero\n",
    "\"\"\"\n",
    "bias = 0"
   ]
  },
  {
   "cell_type": "code",
   "execution_count": 9,
   "metadata": {},
   "outputs": [
    {
     "name": "stdout",
     "output_type": "stream",
     "text": [
      "(4, 2)\n"
     ]
    },
    {
     "data": {
      "text/plain": [
       "array([[0, 0],\n",
       "       [0, 1],\n",
       "       [1, 0],\n",
       "       [1, 1]])"
      ]
     },
     "execution_count": 9,
     "metadata": {},
     "output_type": "execute_result"
    }
   ],
   "source": [
    "\"\"\"\n",
    "Just extracting input features from data points\n",
    "\"\"\"\n",
    "X_O = data[:, :2]\n",
    "print(X_O.shape)\n",
    "X_O"
   ]
  },
  {
   "cell_type": "code",
   "execution_count": 10,
   "metadata": {},
   "outputs": [
    {
     "name": "stdout",
     "output_type": "stream",
     "text": [
      "(2, 4)\n"
     ]
    },
    {
     "data": {
      "text/plain": [
       "array([[0, 0, 1, 1],\n",
       "       [0, 1, 0, 1]])"
      ]
     },
     "execution_count": 10,
     "metadata": {},
     "output_type": "execute_result"
    }
   ],
   "source": [
    "\"\"\"\n",
    "As we need to perform dot product in next step, therefore to define valid dimesions\n",
    "we have to take transpose of X_O\n",
    "\"\"\"\n",
    "X = X_O.T\n",
    "print(X.shape)\n",
    "X"
   ]
  },
  {
   "cell_type": "code",
   "execution_count": 11,
   "metadata": {},
   "outputs": [
    {
     "data": {
      "text/plain": [
       "array([0, 1, 1, 1])"
      ]
     },
     "execution_count": 11,
     "metadata": {},
     "output_type": "execute_result"
    }
   ],
   "source": [
    "\"\"\"\n",
    "Extracting output values corresponding to input features\n",
    "\"\"\"\n",
    "Y =  data[:, -1]\n",
    "Y"
   ]
  },
  {
   "cell_type": "code",
   "execution_count": 14,
   "metadata": {},
   "outputs": [
    {
     "data": {
      "image/png": "[encoded data removed]",
      "text/plain": [
       "<Figure size 1440x720 with 1 Axes>"
      ]
     },
     "metadata": {
      "needs_background": "light"
     },
     "output_type": "display_data"
    },
    {
     "name": "stdout",
     "output_type": "stream",
     "text": [
      "\n",
      "\n"
     ]
    }
   ],
   "source": [
    "weights = np.array([0.1, 0.6])\n",
    "bias = 0\n",
    "\n",
    "cost = list()\n",
    "epochs = 1000\n",
    "\n",
    "fig = plt.figure(figsize = (20, 10))\n",
    "\n",
    "for epoch in range(epochs):\n",
    "\n",
    "    \"\"\"\n",
    "    FORWARD PROPAGATION\n",
    "    --------------------\n",
    "    \"\"\"\n",
    "\n",
    "    Z = compute_linear_eqn(X, weights, bias)\n",
    "\n",
    "    y_hat = compute_sigmoid(Z)\n",
    "\n",
    "    avg_cost = compute_cost(Y, y_hat, len(y_hat))\n",
    "    cost.append(avg_cost)\n",
    "\n",
    "\n",
    "    \"\"\"\n",
    "    BACKWARD PROPAGATION\n",
    "    --------------------\n",
    "\n",
    "    local__del_cost__by__del_y_hat : ($cost/$y_hat)\n",
    "\n",
    "    local__del_y_hat__by__del_z    : ($y_hat/$z)\n",
    "\n",
    "    final__del_cost__by__del_z     : ($y_hat/$z) * ($cost / $y_hat)\n",
    "\n",
    "    local__del_z__by__del_w        : ($z/$w)\n",
    "\n",
    "    local__del_z__by__del_bias     : ($z/$b)\n",
    "\n",
    "    \"\"\"\n",
    "    local__del_cost__by__del_y_hat = compute__del_cost__by__del_y_hat(Y, y_hat, len(y_hat))\n",
    "\n",
    "    local__del_y_hat__by__del_z = compute__del_y_hat__by__del_z(y_hat)\n",
    "\n",
    "    final__del_cost__by__del_z = final_grad_at__z(local__del_cost__by__del_y_hat, local__del_y_hat__by__del_z)\n",
    "\n",
    "    local__del_z__by__del_w = compute__del_z__by__del_w(X_O)\n",
    "\n",
    "    local__del_z__by__del_bias = compute__del_z__by__del_b()\n",
    "\n",
    "\n",
    "    \"\"\"\n",
    "    UPDATE WEIGHTS\n",
    "    --------------\n",
    "    \"\"\"\n",
    "\n",
    "    final__del_cost__by__del_w = np.dot(final__del_cost__by__del_z, local__del_z__by__del_w)\n",
    "\n",
    "    \"\"\"\n",
    "    lr: Learning rate\n",
    "    \"\"\"\n",
    "    lr = 0.05\n",
    "\n",
    "    lr__mul__weights = np.multiply(final__del_cost__by__del_w, 1)\n",
    "\n",
    "    weights = np.subtract(weights, lr__mul__weights)\n",
    "\n",
    "    \"\"\"\n",
    "    UPDATE BIAS\n",
    "    -----------\n",
    "\n",
    "    final__del_cost__by__del_bias ($cost/$b)\n",
    "    $cost/$b: Change in cost function w.r.t bias\n",
    "    \"\"\"\n",
    "\n",
    "    final__del_cost__by__del_bias = np.sum(np.multiply( final__del_cost__by__del_z, local__del_z__by__del_bias))\n",
    "\n",
    "    bias = bias - np.multiply(lr, final__del_cost__by__del_bias)\n",
    "    \n",
    "    plt.plot(epoch, avg_cost, 'bo')\n",
    "\n",
    "\n",
    "plt.xticks(np.arange(0, epochs+1, 100))\n",
    "plt.yticks(np.arange(0, 0.11, 0.01))\n",
    "plt.xlabel('Epochs')\n",
    "plt.ylabel('Avg Cost')\n",
    "plt.show()\n",
    "\n",
    "print(\"\\n\")"
   ]
  },
  {
   "cell_type": "code",
   "execution_count": 13,
   "metadata": {},
   "outputs": [
    {
     "name": "stdout",
     "output_type": "stream",
     "text": [
      "[0.08891294752305501, 0.08515385015384738, 0.08180156499682735, 0.07880385176971907, 0.07611473607425068]\n"
     ]
    },
    {
     "data": {
      "text/plain": [
       "[0.012161830474319998,\n",
       " 0.012150631825789663,\n",
       " 0.012139449736866446,\n",
       " 0.012128284176581839,\n",
       " 0.012117135114031898]"
      ]
     },
     "execution_count": 13,
     "metadata": {},
     "output_type": "execute_result"
    }
   ],
   "source": [
    "print(cost[:5])\n",
    "cost[-5:]"
   ]
  }
 ],
 "metadata": {
  "kernelspec": {
   "display_name": "Python 3",
   "language": "python",
   "name": "python3"
  },
  "language_info": {
   "codemirror_mode": {
    "name": "ipython",
    "version": 3
   },
   "file_extension": ".py",
   "mimetype": "text/x-python",
   "name": "python",
   "nbconvert_exporter": "python",
   "pygments_lexer": "ipython3",
   "version": "3.7.0"
  }
 },
 "nbformat": 4,
 "nbformat_minor": 2
}
