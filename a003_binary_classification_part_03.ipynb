{
 "cells": [
  {
   "cell_type": "code",
   "execution_count": 13,
   "metadata": {},
   "outputs": [],
   "source": [
    "import numpy as np"
   ]
  },
  {
   "cell_type": "code",
   "execution_count": 14,
   "metadata": {},
   "outputs": [],
   "source": [
    "import matplotlib.pyplot as plt\n",
    "%matplotlib inline"
   ]
  },
  {
   "cell_type": "code",
   "execution_count": 15,
   "metadata": {},
   "outputs": [],
   "source": [
    "def update_bias(bias, grad_bias, lr = 1):\n",
    "\n",
    "    updated_bias = np.subtract(bias, np.multiply(grad_bias, lr))\n",
    "\n",
    "    return updated_bias\n",
    "\n",
    "\n",
    "def update_weight(weights, final_del_cost__by__del_w_mtx, lr = 1):\n",
    "    \n",
    "    updated_weights = np.subtract(weights, np.multiply(final_del_cost__by__del_w_mtx, lr))\n",
    "    \n",
    "    return updated_weights"
   ]
  },
  {
   "cell_type": "code",
   "execution_count": 16,
   "metadata": {},
   "outputs": [],
   "source": [
    "def compute_local_del_z__by__del_b():\n",
    "    \n",
    "    return 1\n",
    "\n",
    "\n",
    "def compute_local_del_z__by__del_w_mtx(x):\n",
    "    \n",
    "    return x"
   ]
  },
  {
   "cell_type": "code",
   "execution_count": 17,
   "metadata": {},
   "outputs": [],
   "source": [
    "def compute_local_del_y_hat__by__del_z_vector(z):\n",
    "\n",
    "    grad_wrt_z = [sigmoid(output) * (1 - sigmoid(output)) for output in z]\n",
    "\n",
    "    return grad_wrt_z"
   ]
  },
  {
   "cell_type": "code",
   "execution_count": 18,
   "metadata": {},
   "outputs": [],
   "source": [
    "def compute_final_del_cost__by__del_b_mtx(y, y_hat):\n",
    "        \n",
    "    final_del_cost__by__del_z = compute_final_del_cost__by__del_z_vector(y, y_hat, z).reshape(-1, 4)\n",
    "    local_del_z__by__del_b_mtx = compute_local_del_z__by__del_b()\n",
    "    \n",
    "    final_del_cost__by__del_b = np.multiply(final_del_cost__by__del_z, local_del_z__by__del_b_mtx)\n",
    "\n",
    "    final_del_cost__by__del_b = final_del_cost__by__del_b.reshape(-1, 4)\n",
    "    \n",
    "    final_grad = np.sum(final_del_cost__by__del_b)\n",
    "    \n",
    "    \n",
    "    return final_grad\n",
    "\n",
    "\n",
    "def compute_final_del_cost__by__del_w_mtx(y, y_hat, z, x):\n",
    "        \n",
    "    final_del_cost__by__del_z = compute_final_del_cost__by__del_z_vector(y, y_hat, z).reshape(-1, 4)\n",
    "    local_del_z__by__del_w = compute_local_del_z__by__del_w_mtx(x)\n",
    "    \n",
    "    final_del_cost__by__del_w_mtx = np.matmul(final_del_cost__by__del_z, local_del_z__by__del_w).reshape(-1)\n",
    "    \n",
    "    return final_del_cost__by__del_w_mtx\n",
    "\n",
    "\n",
    "def compute_final_del_cost__by__del_z_vector(y, y_hat, z):\n",
    "        \n",
    "    del_cost__by__del_y_hat = compute_local_del_cost__by__del_y_hat_vector(y, y_hat)\n",
    "    del_y_hat__by__del_z = compute_local_del_y_hat__by__del_z_vector(z)\n",
    "    \n",
    "    del_cost__by__del_z = np.multiply(del_cost__by__del_y_hat, del_y_hat__by__del_z)\n",
    "    \n",
    "    return del_cost__by__del_z\n",
    "\n",
    "\n",
    "def compute_local_del_cost__by__del_y_hat_vector(y, y_hat):\n",
    "        \n",
    "    grad_array = np.array([])\n",
    "    for _y, _y_hat in zip(y, y_hat):\n",
    "        \n",
    "        local_gradient = -np.divide(_y, _y_hat) + np.divide((1 - _y), (1 - _y_hat))\n",
    "        grad_array = np.append(grad_array, local_gradient)\n",
    "\n",
    "    grad_array = np.divide(grad_array, len(y))\n",
    "\n",
    "    return grad_array"
   ]
  },
  {
   "cell_type": "code",
   "execution_count": 19,
   "metadata": {},
   "outputs": [],
   "source": [
    "def compute_bce(y, y_hat):\n",
    "    \"\"\"\n",
    "    -1/m(y * log(y_hat) + (1 - y) * log(1 - y_hat))\n",
    "    \"\"\"\n",
    "    true_event_prob = np.multiply(np.log(y_hat), y)\n",
    "\n",
    "    one__sub__y = np.subtract(1, y)\n",
    "    one__sub__y_hat = np.subtract(1, y_hat)\n",
    "    false_event_prob_iii = np.multiply(one__sub__y, np.log(one__sub__y_hat))\n",
    "\n",
    "    cost_elem = np.concatenate((true_event_prob, false_event_prob_iii))\n",
    "\n",
    "    cost = np.sum(cost_elem)\n",
    "\n",
    "    avg_cost = -np.divide(cost, len(y))\n",
    "\n",
    "    return avg_cost"
   ]
  },
  {
   "cell_type": "code",
   "execution_count": 20,
   "metadata": {},
   "outputs": [],
   "source": [
    "def sigmoid(z):\n",
    "    \n",
    "    denom = np.add(1, np.exp(-z))\n",
    "    \n",
    "    sig = np.divide(1, denom)\n",
    "    \n",
    "    return sig"
   ]
  },
  {
   "cell_type": "code",
   "execution_count": 21,
   "metadata": {},
   "outputs": [],
   "source": [
    "def forward_propagation(d_train_transpose, weights, b, y, training_cost, prediction_accuracy):\n",
    "\n",
    "    z_temp = np.dot(weights, d_train_transpose)\n",
    "\n",
    "    z = np.add(z_temp, b)\n",
    "\n",
    "    y_hat = sigmoid(z)\n",
    "    prediction_accuracy = np.append(prediction_accuracy, y_hat)\n",
    "    \n",
    "    cost = compute_bce(y, y_hat)\n",
    "    training_cost.append(cost)\n",
    "    \n",
    "    return (z, y_hat, prediction_accuracy)\n",
    "    "
   ]
  },
  {
   "cell_type": "code",
   "execution_count": 22,
   "metadata": {},
   "outputs": [],
   "source": [
    "def backward_propagation(d_train, z, y, y_hat):\n",
    "\n",
    "\n",
    "    local_del_cost__by__del_y_hat_vector = compute_local_del_cost__by__del_y_hat_vector(y, y_hat)\n",
    "\n",
    "    local_del_y_hat__by__del_z_vector = compute_local_del_y_hat__by__del_z_vector(z)\n",
    "\n",
    "    final_del_cost__by__del_z_vector = compute_final_del_cost__by__del_z_vector(y, y_hat, z)\n",
    "\n",
    "    local_del_z__by__del_w_mtx = compute_local_del_z__by__del_w_mtx(d_train)\n",
    "\n",
    "    final_del_cost__by__del_w_mtx = compute_final_del_cost__by__del_w_mtx(y, y_hat, z, d_train)\n",
    "\n",
    "    local_del_z__by__del_b = compute_local_del_z__by__del_b()\n",
    "\n",
    "    final_del_cost__by__del_b = compute_final_del_cost__by__del_b_mtx(y, y_hat)\n",
    "    \n",
    "    return (final_del_cost__by__del_w_mtx, final_del_cost__by__del_b)\n"
   ]
  },
  {
   "cell_type": "code",
   "execution_count": 23,
   "metadata": {},
   "outputs": [
    {
     "data": {
      "text/plain": [
       "array([[0., 0., 1., 1.],\n",
       "       [0., 1., 0., 1.]], dtype=float32)"
      ]
     },
     "execution_count": 23,
     "metadata": {},
     "output_type": "execute_result"
    }
   ],
   "source": [
    "data = np.array([[0, 0, 0], [0, 1, 0], [1, 0, 0], [1, 1, 1]], dtype = 'float32')\n",
    "\n",
    "d_train = data[:, :2]\n",
    "d_train\n",
    "\n",
    "y = data[:, 2]\n",
    "y\n",
    "\n",
    "d_train_transpose = d_train.T\n",
    "d_train_transpose"
   ]
  },
  {
   "cell_type": "code",
   "execution_count": 24,
   "metadata": {},
   "outputs": [],
   "source": [
    "weights = np.array([0.1, 0.6])\n",
    "b = 0\n",
    "epochs = 1000\n",
    "training_cost = list()\n",
    "prediction_accuracy = np.array([])\n",
    "\n",
    "for epoch in range(epochs):\n",
    "\n",
    "    \"\"\"\n",
    "    Forward propagation\n",
    "    \"\"\"\n",
    "    z, y_hat, prediction_accuracy = forward_propagation(d_train_transpose, weights, b, y, training_cost, prediction_accuracy)\n",
    "\n",
    "    \n",
    "    \"\"\"\n",
    "    Backward propagation\n",
    "    \n",
    "    \"\"\"    \n",
    "    final_del_cost__by__del_w_mtx, final_del_cost__by__del_b = backward_propagation(d_train, z, y, y_hat)\n",
    "\n",
    "\n",
    "    \"\"\"\n",
    "    Update weight and bias\n",
    "\n",
    "    \"\"\"\n",
    "    weights = update_weight(weights, final_del_cost__by__del_w_mtx)\n",
    "\n",
    "    b = update_bias(b, final_del_cost__by__del_b)"
   ]
  },
  {
   "cell_type": "code",
   "execution_count": 25,
   "metadata": {},
   "outputs": [
    {
     "data": {
      "text/plain": [
       "[0.01745968813487083,\n",
       " 0.017442175422675548,\n",
       " 0.017424697424562055,\n",
       " 0.01740725403814747,\n",
       " 0.01738984516144885]"
      ]
     },
     "execution_count": 25,
     "metadata": {},
     "output_type": "execute_result"
    }
   ],
   "source": [
    "training_cost[-5:]"
   ]
  },
  {
   "cell_type": "code",
   "execution_count": 26,
   "metadata": {},
   "outputs": [
    {
     "data": {
      "text/plain": [
       "array([[1.25447648e-05, 2.02896996e-02, 2.02896941e-02, 9.71582117e-01],\n",
       "       [1.25066432e-05, 2.02696033e-02, 2.02695979e-02, 9.71610282e-01],\n",
       "       [1.24686750e-05, 2.02495464e-02, 2.02495410e-02, 9.71638392e-01],\n",
       "       [1.24308595e-05, 2.02295287e-02, 2.02295233e-02, 9.71666447e-01],\n",
       "       [1.23931959e-05, 2.02095501e-02, 2.02095447e-02, 9.71694447e-01]])"
      ]
     },
     "execution_count": 26,
     "metadata": {},
     "output_type": "execute_result"
    }
   ],
   "source": [
    "prediction_accuracy = prediction_accuracy.reshape((epochs, 4))\n",
    "prediction_accuracy[-5:]"
   ]
  },
  {
   "cell_type": "code",
   "execution_count": 27,
   "metadata": {},
   "outputs": [
    {
     "data": {
      "text/plain": [
       "array([0.97158212, 0.97161028, 0.97163839, 0.97166645, 0.97169445])"
      ]
     },
     "execution_count": 27,
     "metadata": {},
     "output_type": "execute_result"
    }
   ],
   "source": [
    "y_hat_accuracy = prediction_accuracy[:, -1]\n",
    "y_hat_accuracy[-5:]"
   ]
  },
  {
   "cell_type": "code",
   "execution_count": 28,
   "metadata": {},
   "outputs": [
    {
     "data": {
      "image/png": "[encoded data removed]",
      "text/plain": [
       "<Figure size 432x288 with 1 Axes>"
      ]
     },
     "metadata": {
      "needs_background": "light"
     },
     "output_type": "display_data"
    }
   ],
   "source": [
    "x_axis_coords = np.arange(0, epochs, 1)\n",
    "\n",
    "\"\"\"\n",
    "Plotting cost graph\n",
    "\"\"\"\n",
    "plt.plot(x_axis_coords, training_cost, label = \"Cost\")\n",
    "\n",
    "x_axis_ticks = np.arange(0, epochs+1, 100)\n",
    "x_axis_labels = np.arange(0, epochs+1, 100)\n",
    "plt.xticks(x_axis_ticks, x_axis_labels, rotation=20)\n",
    "\n",
    "\n",
    "\"\"\"\n",
    "Plotting y_hat_accuracy graph\n",
    "\"\"\"\n",
    "plt.plot(x_axis_coords, y_hat_accuracy, label = \"Accuracy\")\n",
    "plt.title(\"Cost vs Accuracy Graph\")\n",
    "plt.legend()\n",
    "plt.show()"
   ]
  },
  {
   "cell_type": "markdown",
   "metadata": {},
   "source": [
    "#### Model predictions"
   ]
  },
  {
   "cell_type": "code",
   "execution_count": 57,
   "metadata": {},
   "outputs": [],
   "source": [
    "from sklearn.metrics import accuracy_score"
   ]
  },
  {
   "cell_type": "code",
   "execution_count": 58,
   "metadata": {},
   "outputs": [],
   "source": [
    "classification_threshold = 0.9"
   ]
  },
  {
   "cell_type": "code",
   "execution_count": 59,
   "metadata": {},
   "outputs": [],
   "source": [
    "def get_predicted_output(predicted_probs, classification_threshold):\n",
    "    \n",
    "    return [1 if predicted_prob > classification_threshold else 0 for predicted_prob in predicted_probs]"
   ]
  },
  {
   "cell_type": "code",
   "execution_count": 60,
   "metadata": {},
   "outputs": [],
   "source": [
    "def make_prediction_prob(weights, test_points_input):\n",
    "\n",
    "    z_temp = np.dot(weights, test_points_input)\n",
    "\n",
    "    z = np.add(z_temp, b)\n",
    "\n",
    "    y_hat = sigmoid(z)\n",
    "    \n",
    "    return y_hat"
   ]
  },
  {
   "cell_type": "code",
   "execution_count": 61,
   "metadata": {},
   "outputs": [
    {
     "data": {
      "text/plain": [
       "array([1.23556835e-05, 2.01896104e-02, 2.01896051e-02, 9.71722392e-01])"
      ]
     },
     "execution_count": 61,
     "metadata": {},
     "output_type": "execute_result"
    }
   ],
   "source": [
    "test_predictions_probs = make_prediction_prob(weights, d_train_transpose)\n",
    "test_predictions_probs"
   ]
  },
  {
   "cell_type": "code",
   "execution_count": 63,
   "metadata": {},
   "outputs": [],
   "source": [
    "predicted_output = get_predicted_output(test_predictions_probs, classification_threshold)"
   ]
  },
  {
   "cell_type": "code",
   "execution_count": 64,
   "metadata": {},
   "outputs": [
    {
     "data": {
      "text/plain": [
       "1.0"
      ]
     },
     "execution_count": 64,
     "metadata": {},
     "output_type": "execute_result"
    }
   ],
   "source": [
    "accuracy = accuracy_score(y, predicted_output)\n",
    "accuracy"
   ]
  }
 ],
 "metadata": {
  "kernelspec": {
   "display_name": "Python 3",
   "language": "python",
   "name": "python3"
  },
  "language_info": {
   "codemirror_mode": {
    "name": "ipython",
    "version": 3
   },
   "file_extension": ".py",
   "mimetype": "text/x-python",
   "name": "python",
   "nbconvert_exporter": "python",
   "pygments_lexer": "ipython3",
   "version": "3.7.0"
  }
 },
 "nbformat": 4,
 "nbformat_minor": 2
}
