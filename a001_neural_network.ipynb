{
 "cells": [
  {
   "cell_type": "code",
   "execution_count": 343,
   "metadata": {},
   "outputs": [],
   "source": [
    "from IPython.core.interactiveshell import InteractiveShell\n",
    "InteractiveShell.ast_node_interactivity = 'all'"
   ]
  },
  {
   "cell_type": "code",
   "execution_count": 344,
   "metadata": {},
   "outputs": [],
   "source": [
    "import numpy as np"
   ]
  },
  {
   "cell_type": "code",
   "execution_count": 345,
   "metadata": {},
   "outputs": [
    {
     "data": {
      "text/plain": [
       "(4, 2)"
      ]
     },
     "execution_count": 345,
     "metadata": {},
     "output_type": "execute_result"
    },
    {
     "data": {
      "text/plain": [
       "array([[0., 0.],\n",
       "       [0., 1.],\n",
       "       [1., 0.],\n",
       "       [1., 1.]])"
      ]
     },
     "execution_count": 345,
     "metadata": {},
     "output_type": "execute_result"
    }
   ],
   "source": [
    "x = np.array([\n",
    "    [0, 0],\n",
    "    [0, 1],\n",
    "    [1, 0],\n",
    "    [1, 1]\n",
    "], dtype = 'float64')\n",
    "x.shape\n",
    "x"
   ]
  },
  {
   "cell_type": "code",
   "execution_count": 346,
   "metadata": {},
   "outputs": [
    {
     "data": {
      "text/plain": [
       "(2, 4)"
      ]
     },
     "execution_count": 346,
     "metadata": {},
     "output_type": "execute_result"
    },
    {
     "data": {
      "text/plain": [
       "array([[0., 0., 1., 1.],\n",
       "       [0., 1., 0., 1.]])"
      ]
     },
     "execution_count": 346,
     "metadata": {},
     "output_type": "execute_result"
    }
   ],
   "source": [
    "x_trans = x.T\n",
    "x_trans.shape\n",
    "x_trans"
   ]
  },
  {
   "cell_type": "code",
   "execution_count": 347,
   "metadata": {},
   "outputs": [
    {
     "data": {
      "text/plain": [
       "array([0.6, 0.4])"
      ]
     },
     "execution_count": 347,
     "metadata": {},
     "output_type": "execute_result"
    },
    {
     "data": {
      "text/plain": [
       "(2,)"
      ]
     },
     "execution_count": 347,
     "metadata": {},
     "output_type": "execute_result"
    }
   ],
   "source": [
    "weights = np.array([0.6, 0.4])\n",
    "weights\n",
    "weights.shape"
   ]
  },
  {
   "cell_type": "code",
   "execution_count": 348,
   "metadata": {},
   "outputs": [],
   "source": [
    "bias = np.float64(0)"
   ]
  },
  {
   "cell_type": "code",
   "execution_count": 349,
   "metadata": {},
   "outputs": [
    {
     "data": {
      "text/plain": [
       "array([0., 0.])"
      ]
     },
     "execution_count": 349,
     "metadata": {},
     "output_type": "execute_result"
    },
    {
     "data": {
      "text/plain": [
       "(2,)"
      ]
     },
     "execution_count": 349,
     "metadata": {},
     "output_type": "execute_result"
    }
   ],
   "source": [
    "hl_1_n_1 = np.zeros((2,), dtype = 'float')\n",
    "hl_1_n_1\n",
    "hl_1_n_1.shape"
   ]
  },
  {
   "cell_type": "code",
   "execution_count": 350,
   "metadata": {},
   "outputs": [
    {
     "data": {
      "text/plain": [
       "[0, 0, 0, 1]"
      ]
     },
     "execution_count": 350,
     "metadata": {},
     "output_type": "execute_result"
    }
   ],
   "source": [
    "target_vector = [0, 0, 0, 1]\n",
    "target_vector"
   ]
  },
  {
   "cell_type": "code",
   "execution_count": 351,
   "metadata": {},
   "outputs": [],
   "source": [
    "def sigmoid(pred_score):\n",
    "    \n",
    "    return np.exp(pred_score)/np.add(1., np.exp(pred_score))"
   ]
  },
  {
   "cell_type": "code",
   "execution_count": 352,
   "metadata": {},
   "outputs": [],
   "source": [
    "def linear_compute(x1, x2, w1, w2):\n",
    "    \n",
    "    hl_score = np.sum(\n",
    "        [\n",
    "            np.multiply(w1, x1),\n",
    "            np.multiply(w2, x2),\n",
    "            bias\n",
    "        ],\n",
    "        dtype = np.float64\n",
    "    )\n",
    "    \n",
    "    return  hl_score"
   ]
  },
  {
   "cell_type": "code",
   "execution_count": 353,
   "metadata": {},
   "outputs": [],
   "source": [
    "def gradient_at_sigmoid(pred_score):\n",
    "    \n",
    "    return np.multiply(pred_score, (1 - pred_score))"
   ]
  },
  {
   "cell_type": "code",
   "execution_count": 354,
   "metadata": {},
   "outputs": [],
   "source": [
    "def gradient_at_loss(y, y_hat):\n",
    "    \n",
    "    return -np.subtract(y, y_hat)"
   ]
  },
  {
   "cell_type": "code",
   "execution_count": 355,
   "metadata": {},
   "outputs": [],
   "source": [
    "jacob_hl_1_activation = np.array([sigmoid])"
   ]
  },
  {
   "cell_type": "code",
   "execution_count": 356,
   "metadata": {},
   "outputs": [],
   "source": [
    "jacob_hl_1 = np.array([])"
   ]
  },
  {
   "cell_type": "code",
   "execution_count": 357,
   "metadata": {},
   "outputs": [],
   "source": [
    "x_train_len = x_trans.shape[1]"
   ]
  },
  {
   "cell_type": "code",
   "execution_count": 358,
   "metadata": {},
   "outputs": [
    {
     "data": {
      "text/plain": [
       "4"
      ]
     },
     "execution_count": 358,
     "metadata": {},
     "output_type": "execute_result"
    }
   ],
   "source": [
    "np.square(2)"
   ]
  },
  {
   "cell_type": "code",
   "execution_count": 359,
   "metadata": {},
   "outputs": [],
   "source": [
    "def compute_loss(y, y_hat):\n",
    "\n",
    "    return np.divide(np.square(np.subtract(y, y_hat)), 2)"
   ]
  },
  {
   "cell_type": "code",
   "execution_count": 360,
   "metadata": {},
   "outputs": [
    {
     "name": "stdout",
     "output_type": "stream",
     "text": [
      "[0.125, 0.16149380181035808, 0.17001136561429891, 0.08924019362164669]\n",
      "[0.09022746230839472, 0.1196533965216563, 0.12905571386794396, 0.12255685746371636]\n",
      "[0.06843797747648774, 0.09547639913836868, 0.104927871979336, 0.1427858944798291]\n",
      "[0.05454689367093193, 0.0815625892568062, 0.09056975691355287, 0.1531387122330396]\n",
      "[0.04518102096343993, 0.07328727140382396, 0.08168815175901907, 0.15705074846054656]\n",
      "[0.038477221196831425, 0.06819289483950472, 0.0759696656002549, 0.15689600183523383]\n",
      "[0.03341573275497188, 0.06495667369036127, 0.07213987826127585, 0.15423225431437798]\n",
      "[0.029419223150562408, 0.06282787646195849, 0.06946033192742967, 0.1500904805960953]\n",
      "[0.02614779617749563, 0.061358254635602384, 0.06748342328374926, 0.1451579016088421]\n",
      "[0.023394197570923796, 0.06027114201603998, 0.06593013693739862, 0.13988820888903108]\n"
     ]
    }
   ],
   "source": [
    "x_train_len = x.shape[0]\n",
    "loss = list()\n",
    "\n",
    "for epoch in range(0, 10):\n",
    "    \n",
    "    loss.append([])\n",
    "\n",
    "    for i in range(0, x_train_len):\n",
    "        \n",
    "        w_i, w_ii = weights\n",
    "\n",
    "        y = target_vector[i]\n",
    "\n",
    "        x_i, x_ii = x[i]\n",
    "\n",
    "        y_score = linear_compute(x_i, x_ii, w_i, w_ii)\n",
    "        y_hat = sigmoid(y_score)\n",
    "\n",
    "\n",
    "        loss1 = compute_loss(y, y_hat)\n",
    "\n",
    "        del_l__by__del_y_hat = gradient_at_loss(y, y_hat)\n",
    "\n",
    "        del_y_hat__by__del_z = gradient_at_sigmoid(y_hat)\n",
    "\n",
    "        del_z__by__del_w_i = x_i\n",
    "\n",
    "        del_z__by__del_w_ii = x_ii\n",
    "\n",
    "        del_z__by__del_b = 1\n",
    "\n",
    "        del_l__by__del_z = np.multiply(del_l__by__del_y_hat, del_y_hat__by__del_z)\n",
    "\n",
    "        del_l__by__del_w_i = np.multiply(del_l__by__del_z, del_z__by__del_w_i)\n",
    "        \n",
    "        del_l__by__del_w_ii = np.multiply(del_l__by__del_z, del_z__by__del_w_ii)\n",
    "\n",
    "\n",
    "        del_l__by__del_b = np.multiply(del_l__by__del_z, del_z__by__del_b)\n",
    "\n",
    "\n",
    "        weights = weights - np.array([del_l__by__del_w_i, del_l__by__del_w_ii])\n",
    "        \n",
    "        loss[epoch].append(loss1)\n",
    "        bias = np.subtract(bias, del_l__by__del_b)\n",
    "\n",
    "        \n",
    "for i in loss:\n",
    "    print(i)"
   ]
  }
 ],
 "metadata": {
  "kernelspec": {
   "display_name": "Python 3",
   "language": "python",
   "name": "python3"
  },
  "language_info": {
   "codemirror_mode": {
    "name": "ipython",
    "version": 3
   },
   "file_extension": ".py",
   "mimetype": "text/x-python",
   "name": "python",
   "nbconvert_exporter": "python",
   "pygments_lexer": "ipython3",
   "version": "3.7.0"
  }
 },
 "nbformat": 4,
 "nbformat_minor": 2
}
